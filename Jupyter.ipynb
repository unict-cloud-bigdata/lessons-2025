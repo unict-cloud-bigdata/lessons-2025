{
 "cells": [
  {
   "cell_type": "raw",
   "id": "7d2b738f-39a6-4901-8877-425588c1ffec",
   "metadata": {
    "editable": true,
    "raw_mimetype": "",
    "slideshow": {
     "slide_type": ""
    },
    "tags": []
   },
   "source": [
    "---\n",
    "title: \"Jupyter\"\n",
    "author: \"Salvo Nicotra\"\n",
    "format: \n",
    "    revealjs:\n",
    "        width: 1280\n",
    "        heigth: 800\n",
    "incremental: true  \n",
    "execute:\n",
    "  echo: true\n",
    "  warning: false\n",
    "theme: white\n",
    "chalkboard: true\n",
    "css: style.css\n",
    "smaller: true\n",
    "scrollable: true\n",
    "include-before: |\n",
    "    <img src=\"images/unict-logo.png\" class=\"custom-logo\" alt=\"Logo\">\n",
    "include-after: |\n",
    "      <div class=\"custom-footer\">\n",
    "        *** Cloud Computing and Big Data - 2024/2025 ***\n",
    "      </div>\n",
    "---"
   ]
  },
  {
   "cell_type": "markdown",
   "id": "9859ca53",
   "metadata": {
    "editable": true,
    "slideshow": {
     "slide_type": "slide"
    },
    "tags": []
   },
   "source": [
    "## What is Jupyter ?\n",
    "\n",
    ":::: {.columns}\n",
    "\n",
    "::: {.fragment .column width=\"50%\"}\n",
    "\n",
    "> Free software, open standards, and web services for interactive computing across all programming languages\n",
    "\n",
    "<https://jupyter.org/>\n",
    "::: \n",
    "\n",
    "::: {.fragment .column width=\"50%\"}\n",
    "![](images/jupyter.png)\n",
    ":::\n",
    "::::\n",
    "\n",
    "\n",
    "\n"
   ]
  },
  {
   "cell_type": "markdown",
   "id": "34544f1d",
   "metadata": {
    "editable": true,
    "slideshow": {
     "slide_type": "subslide"
    },
    "tags": []
   },
   "source": [
    "## History\n",
    "\n",
    ":::: {.columns}\n",
    "\n",
    "::: {.fragment .column width=\"50%\"}\n",
    "\n",
    "Project Jupyter is a non-profit, open-source project, born out of the IPython Project in 2014 as it evolved to support interactive data science and scientific computing across all programming languages. Jupyter will always be 100% open-source software, free for all to use\n",
    "\n",
    "The **name** is refers to first three programming language supported (Julia, Python, R)\n",
    "\n",
    "The **logo** is the Jupiter planet with its main moons representing the 3 language\n",
    "\n",
    "It's a tribute to Galileo\n",
    "\n",
    "::: \n",
    "\n",
    "::: {.fragment .column width=\"50%\"}\n",
    "![](images/GalileoJupyterNotebook.png){.lightbox}\n",
    ":::\n",
    "::::\n"
   ]
  },
  {
   "cell_type": "markdown",
   "id": "d7e04889",
   "metadata": {
    "editable": true,
    "slideshow": {
     "slide_type": "subslide"
    },
    "tags": []
   },
   "source": [
    "## Impacts\n",
    "\n",
    ":::: {.columns}\n",
    "\n",
    "::: {.fragment .column width=\"50%\"}\n",
    "In 2021, Nature added iPy as one \n",
    "the \"Ten computer code that transfored science\"\n",
    "https://www.nature.com/articles/d41586-021-00075-2\n",
    "\n",
    "![](images/nature.png)\n",
    "::: \n",
    "\n",
    "::: {.fragment .column width=\"50%\"}\n",
    "![](images/nature2.png)\n",
    ":::\n",
    "::::\n",
    "\n"
   ]
  },
  {
   "cell_type": "markdown",
   "id": "fa72aaff",
   "metadata": {
    "editable": true,
    "slideshow": {
     "slide_type": "slide"
    },
    "tags": []
   },
   "source": [
    "# Juypter Notebooks\n",
    "https://jupyter-notebook.readthedocs.io/"
   ]
  },
  {
   "cell_type": "markdown",
   "id": "2cbe47b1",
   "metadata": {
    "cell_style": "center",
    "editable": true,
    "slideshow": {
     "slide_type": "subslide"
    },
    "tags": []
   },
   "source": [
    "## Components of Jupyter Notebooks\n",
    ":::: {.columns}\n",
    "\n",
    "::: {.fragment .column width=\"50%\"}\n",
    "- **Notebook web application**: An interactive web application for writing and running code interactively and authoring notebook documents.\n",
    "- **Kernels**: Separate processes started by the notebook web application that runs users’ code in a given language and returns output back to the notebook web application.\n",
    "- **Notebook documents**: Self-contained documents that contain a representation of all content visible in the notebook web application, including inputs and outputs of the computations, narrative text, equations, images, and rich media representations of objects.\n",
    "::: \n",
    "\n",
    "::: {.fragment .column width=\"50%\"}\n",
    "#### Component diagram\n",
    "![](images/notebook_components.png)\n",
    ":::\n",
    "::::\n"
   ]
  },
  {
   "cell_type": "markdown",
   "id": "58382c43",
   "metadata": {
    "editable": true,
    "slideshow": {
     "slide_type": "subslide"
    },
    "tags": []
   },
   "source": [
    "### The notebook web application\n",
    "\n",
    ":::: {.columns}\n",
    "\n",
    "::: {.fragment .column width=\"50%\"}\n",
    "**Dashboard**\n",
    "The Dashboard it's the initial page and lists the files availabile in the directory and the running notebook.\n",
    "\n",
    "Please note that the scope depends on the path where the application is lanched.\n",
    "::: \n",
    "\n",
    "::: {.fragment .column width=\"50%\"}\n",
    "![](https://user-images.githubusercontent.com/591645/229564680-3e9a9031-e925-4008-833c-a478b3e96c97.png)\n",
    "Image of the Notebook Dashboard from the Jupyter manual\n",
    ":::\n",
    "::::\n"
   ]
  },
  {
   "cell_type": "markdown",
   "id": "9e2124cc",
   "metadata": {
    "editable": true,
    "slideshow": {
     "slide_type": "subslide"
    },
    "tags": []
   },
   "source": [
    "#### Notebook Editor\n",
    "The editor of a notebook it's \"word\" style with a menu on top \n",
    "\n",
    "![](images/new-notebook.gif)"
   ]
  },
  {
   "cell_type": "markdown",
   "id": "c89cb750",
   "metadata": {
    "cell_style": "center",
    "editable": true,
    "slideshow": {
     "slide_type": "subslide"
    },
    "tags": []
   },
   "source": [
    "#### Main features\n",
    "\n",
    "- Edit code in the browser, with automatic syntax highlighting, indentation, and tab completion/introspection.\n",
    "- Run code from the browser, with the results of computations attached to the code which generated them.\n",
    "- See the results of computations with rich media representations, such as HTML, LaTeX, PNG, SVG, PDF, etc.\n",
    "- Create and use interactive JavaScript widgets, which bind interactive user interface controls and visualizations to reactive kernel side computations.\n",
    "- Author narrative text using the Markdown markup language.\n",
    "- Include mathematical equations using LaTeX syntax in Markdown, which are rendered in-browser by MathJax."
   ]
  },
  {
   "cell_type": "markdown",
   "id": "5580e956",
   "metadata": {
    "editable": true,
    "slideshow": {
     "slide_type": "subslide"
    },
    "tags": []
   },
   "source": [
    "### Kernels\n",
    "\n",
    ":::: {.columns}\n",
    "\n",
    "::: {.fragment .column width=\"50%\"}\n",
    "- Through Jupyter’s kernel and messaging architecture, the Notebook allows code to be run in a range of different programming languages. \n",
    "- For each notebook document that a user opens, the web application starts a kernel that runs the code for that notebook. \n",
    "- Each kernel is capable of running code in a single programming language and there are kernels available in the many languages\n",
    "https://github.com/jupyter/jupyter/wiki/Jupyter-kernels \n",
    "::: \n",
    "\n",
    "::: {.fragment .column width=\"50%\"}\n",
    "![](images/ipy_kernel_and_terminal.png)\n",
    ":::\n",
    "::::\n"
   ]
  },
  {
   "cell_type": "markdown",
   "id": "39fdaaaf",
   "metadata": {
    "editable": true,
    "slideshow": {
     "slide_type": "slide"
    },
    "tags": []
   },
   "source": [
    "## Notebook documents\n",
    "\n",
    ":::: {.columns}\n",
    "\n",
    "::: {.fragment .column width=\"50%\"}\n",
    "Notebook documents contain the inputs and outputs of an interactive session as well as narrative text that accompanies the code but is not meant for execution. Rich output generated by running code, including HTML, images, video, and plots, is embeddeed in the notebook, which makes it a complete and self-contained record of a computation.\n",
    "\n",
    "::: \n",
    "\n",
    "::: {.fragment .column width=\"50%\"}\n",
    "When you run the notebook web application on your computer, notebook documents are just files on your local filesystem with a ``.ipynb`` extension. This allows you to use familiar workflows for organizing your notebooks into folders and sharing them with others.\n",
    ":::\n",
    "::::\n"
   ]
  },
  {
   "cell_type": "markdown",
   "id": "a238dfe2",
   "metadata": {
    "editable": true,
    "slideshow": {
     "slide_type": "subslide"
    },
    "tags": []
   },
   "source": [
    "## Structure of a notebook document\n",
    "\n",
    ":::: {.columns}\n",
    "\n",
    "::: {.fragment .column width=\"50%\"}\n",
    "\n",
    "Internally, notebook documents are \n",
    "\n",
    "- **JSON** <https://en.wikipedia.org/wiki/JSON> data \n",
    "- with binary values **base64**  <https://en.wikipedia.org/wiki/Base64> encoded. \n",
    "\n",
    "- This allows them to be read and manipulated programmatically by any programming language. \n",
    "\n",
    "- Because JSON is a text format, notebook documents are version control friendly.\n",
    "::: \n",
    "\n",
    "::: {.fragment .column width=\"50%\"}\n",
    "![](images/jupyter_json.png)\n",
    ":::\n",
    "::::\n"
   ]
  },
  {
   "cell_type": "markdown",
   "id": "92354ce9",
   "metadata": {
    "editable": true,
    "slideshow": {
     "slide_type": "slide"
    },
    "tags": []
   },
   "source": [
    "## Cells\n",
    "\n",
    "Notebooks consist of a linear sequence of cells. There are three basic cell types:\n",
    "\n",
    "- **Code cells**: Input and output of live code that is run in the kernel\n",
    "- **Markdown cells**: Narrative text with embedded LaTeX equations\n",
    "- **Raw cells**: Unformatted text that is included, without modification, when notebooks are converted to different formats using nbconvert"
   ]
  },
  {
   "cell_type": "markdown",
   "id": "ff43a399",
   "metadata": {
    "editable": true,
    "slideshow": {
     "slide_type": "subslide"
    },
    "tags": []
   },
   "source": [
    "### Markdown Cell\n",
    "\n",
    "> Markdown is a plain text format for writing structured documents, based on conventions for indicating formatting in email and usenet posts. It was developed by John Gruber (with help from Aaron Swartz) and released in 2004\n",
    "\n",
    "As Gruber writes:\n",
    "> The overriding design goal for Markdown’s formatting syntax is to make it as readable as possible. The idea is that a Markdown-formatted document should be publishable as-is, as plain text, without looking like it’s been marked up with tags or formatting instructions. (http://daringfireball.net/projects/markdown/)"
   ]
  },
  {
   "cell_type": "markdown",
   "id": "2d303020",
   "metadata": {
    "editable": true,
    "slideshow": {
     "slide_type": "subslide"
    },
    "tags": []
   },
   "source": [
    "### Markdown References\n",
    "- https://github.com/adam-p/markdown-here/wiki/Markdown-Cheatsheet\n",
    "- https://www.markdownguide.org/"
   ]
  },
  {
   "cell_type": "markdown",
   "id": "20a8630c",
   "metadata": {
    "editable": true,
    "slideshow": {
     "slide_type": "subslide"
    },
    "tags": []
   },
   "source": [
    "### Code Cell\n",
    "\n",
    "- Cell where it's possibile to insert code associated to kernel of the notebook (i.e. Python)\n",
    "- Code cell interact with the kernel using a protocol, i.e. the code is executed and output (if any) is printed after the cell\n",
    "- Cell code are executed in order, i.e. no other cell code is effectively executed until the previosly completed"
   ]
  },
  {
   "cell_type": "markdown",
   "id": "89550f2d",
   "metadata": {
    "editable": true,
    "slideshow": {
     "slide_type": "slide"
    },
    "tags": []
   },
   "source": [
    "## REPL{background-color=\"white\" background-image=\"images/repl.png\" background-size=\"50%\" background-opacity=\"0.2\"}\n",
    "\n",
    ":::: {.columns}\n",
    "\n",
    "::: {.fragment .column width=\"50%\"}\n",
    "- The **read** function accepts an expression from the user, and parses it into a data structure in memory. For instance, the user may enter the s-expression (+ 1 2 3), which is parsed into a linked list containing four data elements.\n",
    "- The **eval** function takes this internal data structure and evaluates it. In Lisp, evaluating an s-expression beginning with the name of a function means calling that function on the arguments that make up the rest of the expression. So the function + is called on the arguments 1 2 3, yielding the result 6.\n",
    "  \n",
    "::: \n",
    "\n",
    "::: {.fragment .column width=\"50%\"}\n",
    "- The **print** function takes the result yielded by eval, and prints it out to the user. If it is a complex expression, it may be pretty-printed to make it easier to understand.\n",
    "- The development environment then returns to the read state, creating a **loop**, which terminates when the program is closed.\n",
    "\n",
    "```lisp\n",
    "(define (REPL env)\n",
    "  (print (eval env (read)))\n",
    "  (REPL env) )\n",
    " ```\n",
    ":::\n",
    "::::\n",
    "\n"
   ]
  },
  {
   "cell_type": "markdown",
   "id": "b4bd36ce",
   "metadata": {
    "editable": true,
    "slideshow": {
     "slide_type": "subslide"
    },
    "tags": []
   },
   "source": [
    "### Edit / Command Mode\n",
    "\n",
    "Notebooks have two modes:\n",
    "\n",
    ":::: {.columns}\n",
    "\n",
    "::: {.fragment .column width=\"50%\"}\n",
    "**Edit Mode (green)**\n",
    "- it's possibile to write in the cell\n",
    "- code is not immediatetely executed\n",
    "\n",
    "Some ide features (but it's not an IDE)\n",
    "- syntax highlighting\n",
    "- code completion\n",
    "\n",
    "::: \n",
    "\n",
    "::: {.fragment .column width=\"50%\"}\n",
    "**Command Mode**: (blue): it's a \"navigation mode\", special keys to author the notebook\n",
    "\n",
    "- Basic navigation: enter, shift-enter, up/k, down/j\n",
    "- Saving the notebook: s\n",
    "- Change Cell types: y, m, 1-6, t\n",
    "- Cell creation: a, b\n",
    "- Cell editing: x, c, v, d, z\n",
    "- Kernel operations: i, 0 (press twice)\n",
    ":::\n",
    "::::\n",
    "\n"
   ]
  },
  {
   "cell_type": "markdown",
   "id": "3d64d94d",
   "metadata": {
    "editable": true,
    "slideshow": {
     "slide_type": "subslide"
    },
    "tags": []
   },
   "source": [
    "![](https://i.imgflip.com/8enqtc.jpg)\n",
    "[NicsMeme](https://i.imgflip.com/8enqtc.jpg)"
   ]
  },
  {
   "cell_type": "markdown",
   "id": "e70bc4b6",
   "metadata": {
    "editable": true,
    "slideshow": {
     "slide_type": "subslide"
    },
    "tags": []
   },
   "source": [
    "## Cell execution"
   ]
  },
  {
   "cell_type": "markdown",
   "id": "5cf6eabf",
   "metadata": {
    "editable": true,
    "slideshow": {
     "slide_type": "fragment"
    },
    "tags": []
   },
   "source": [
    "- Cells can be executed clicking on the \"Play\" icon in the toolbar, via Cell -> Run in the menu or Shift-Enter"
   ]
  },
  {
   "cell_type": "markdown",
   "id": "5eec343b",
   "metadata": {
    "slideshow": {
     "slide_type": "fragment"
    }
   },
   "source": [
    "- Cells are executed in order, output appears asynchronously"
   ]
  },
  {
   "cell_type": "markdown",
   "id": "2a95b156",
   "metadata": {
    "slideshow": {
     "slide_type": "fragment"
    }
   },
   "source": [
    "- Markdown cells are immediately rendered "
   ]
  },
  {
   "cell_type": "markdown",
   "id": "f247b660",
   "metadata": {
    "editable": true,
    "slideshow": {
     "slide_type": "fragment"
    },
    "tags": []
   },
   "source": [
    "- Code cells sends the entire cell to the kerne, a [] box appers at the left with a * (waiting) and when completed  the execution order"
   ]
  },
  {
   "cell_type": "markdown",
   "id": "a00d9126-2ae9-4051-9395-f40e249acdec",
   "metadata": {
    "editable": true,
    "slideshow": {
     "slide_type": ""
    },
    "tags": []
   },
   "source": [
    "# Rendering Notebooks"
   ]
  },
  {
   "cell_type": "markdown",
   "id": "bec4d238",
   "metadata": {
    "editable": true,
    "slideshow": {
     "slide_type": "subslide"
    },
    "tags": []
   },
   "source": [
    "### Nbviewer\n",
    "<https://nbviewer.org/>\n",
    "\n",
    ":::: {.columns}\n",
    "\n",
    "::: {.fragment .column width=\"50%\"}\n",
    "![](https://nbviewer.org/static/img/nav_logo.svg)\n",
    "::: \n",
    "\n",
    "::: {.fragment .column width=\"50%\"}\n",
    "Any notebook document available from a public URL or on GitHub can be shared via nbviewer. This service loads the notebook document from the URL and renders it as a static web page. The resulting web page may thus be shared with others without their needing to install the Jupyter Notebook.\n",
    "\n",
    "Examples \n",
    "- [See this notebook using nbviewer](https://nbviewer.org/github/nicshub/sdsdbms/blob/main/Jupyter.ipynb)\n",
    "\n",
    "- Github automatically renders notebook\n",
    "[See this notebook in GitHub](https://github.com/nicshub/sdsdbms/blob/main/Jupyter.ipynb)\n",
    ":::\n",
    "::::\n",
    "\n"
   ]
  },
  {
   "cell_type": "markdown",
   "id": "b1b81a21",
   "metadata": {
    "editable": true,
    "slideshow": {
     "slide_type": "slide"
    },
    "tags": []
   },
   "source": [
    "## Export Notebook (NB Convert)\n",
    "\n",
    "Using nbconvert enables:\n",
    "presentation of information in familiar formats, such as PDF.\n",
    "publishing of research using LaTeX and opens the door for embedding notebooks in papers.\n",
    "collaboration with others who may not use the notebook in their work.\n",
    "sharing contents with many people via the web using HTML.\n",
    "Format:\n",
    "- latex \n",
    "- pdf\n",
    "- html\n",
    "- slides\n",
    "\n",
    "https://nbconvert.readthedocs.io"
   ]
  },
  {
   "cell_type": "markdown",
   "id": "a74ccbd7",
   "metadata": {
    "editable": true,
    "slideshow": {
     "slide_type": "slide"
    },
    "tags": []
   },
   "source": [
    "### Slides\n",
    "- There are different ways to create presentation of a notebook\n",
    "- Each cell is \"labeled\" as Slide, Subslide or Fragment\n",
    "- Typically they are based on [reveal](https://revealjs.com/)\n",
    "- [Rise](https://rise.readthedocs.io/en/latest/): it's an extension able to transform notebook in presentation inside the web application. The great advantage is that it's possibile to execute cell \"live\"\n",
    "- [Voila](https://voila.readthedocs.io/en/stable/): Voilà allows you to convert a Jupyter Notebook into an interactive dashboard that allows you to share your work with others.\n",
    "- [Quarto](https://quarto.org/docs/tools/jupyter-lab.html): Quarto can render Jupyter notebooks represented as plain text (.qmd) or as a normal notebook file (.ipynb). One benefit of using .ipynb is that you can use JupyterLab as your editor."
   ]
  },
  {
   "cell_type": "markdown",
   "id": "7a1c0648",
   "metadata": {
    "editable": true,
    "slideshow": {
     "slide_type": "slide"
    },
    "tags": []
   },
   "source": [
    "## Jupyter Book\n",
    ":::: {.columns}\n",
    "\n",
    "::: {.fragment .column width=\"50%\"}\n",
    "![](https://jupyterbook.org/en/stable/_static/logo-wide.svg)\n",
    "::: \n",
    "\n",
    "::: {.fragment .column width=\"50%\"}\n",
    "**What is Jupyter Book**\n",
    "<https://jupyterbook.org/en/stable/intro.html>\n",
    "- Jupyter Book is an open source project for building beautiful, publication-quality books and documents from computational material.\n",
    "- Define Table of Content and Meta Data\n",
    "- Uses MyST Markdown: MyST makes Markdown more _extensible_ & **powerful** to support an ecosystem of tools for computational narratives, technical documentation, and open scientific communication.\n",
    ":::\n",
    "::::\n",
    "\n"
   ]
  },
  {
   "cell_type": "markdown",
   "id": "0420310e",
   "metadata": {
    "editable": true,
    "slideshow": {
     "slide_type": "slide"
    },
    "tags": []
   },
   "source": [
    "# Criticism to the Notebook"
   ]
  },
  {
   "cell_type": "markdown",
   "id": "923c9755",
   "metadata": {
    "editable": true,
    "slideshow": {
     "slide_type": "fragment"
    },
    "tags": []
   },
   "source": [
    "## I don't like notebooks \n",
    "<https://docs.google.com/presentation/d/1n2RlMdmv1p25Xy5thJUhkKGvjtV-dkAIsUXP-AL4ffI/edit#slide=id.g362da58057_0_1>"
   ]
  }
 ],
 "metadata": {
  "celltoolbar": "Slideshow",
  "kernelspec": {
   "display_name": "Python 3 (ipykernel)",
   "language": "python",
   "name": "python3"
  },
  "language_info": {
   "codemirror_mode": {
    "name": "ipython",
    "version": 3
   },
   "file_extension": ".py",
   "mimetype": "text/x-python",
   "name": "python",
   "nbconvert_exporter": "python",
   "pygments_lexer": "ipython3",
   "version": "3.12.4"
  },
  "rise": {
   "autolaunch": true,
   "enable_chalkboard": "true",
   "footer": "<div class=\"tap-footer\"> *** Technologies for advanced programming (TAP) - 2024 ***</div>",
   "header": "<div class=\"tap-header\"></div>",
   "scroll": true,
   "theme": "white"
  }
 },
 "nbformat": 4,
 "nbformat_minor": 5
}
