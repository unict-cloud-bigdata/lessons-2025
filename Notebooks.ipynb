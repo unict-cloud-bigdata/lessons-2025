{
 "cells": [
  {
   "cell_type": "raw",
   "id": "0fdc3419-a04b-411a-9736-0c3398200a84",
   "metadata": {
    "editable": true,
    "raw_mimetype": "",
    "slideshow": {
     "slide_type": ""
    },
    "tags": []
   },
   "source": [
    "---\n",
    "title: \"(Computational) Notebooks\"\n",
    "author: \"Salvo Nicotra\"\n",
    "format: \n",
    "    revealjs:\n",
    "        width: 1280\n",
    "        heigth: 800\n",
    "incremental: true  \n",
    "execute:\n",
    "  echo: true\n",
    "  warning: false\n",
    "theme: white\n",
    "chalkboard: true\n",
    "css: style.css\n",
    "smaller: true\n",
    "scrollable: true\n",
    "include-before: |\n",
    "    <img src=\"images/unict-logo.png\" class=\"custom-logo\" alt=\"Logo\">\n",
    "include-after: |\n",
    "      <div class=\"custom-footer\">\n",
    "        *** Cloud Computing and Big Data - 2024/2025 ***\n",
    "      </div>\n",
    "---"
   ]
  },
  {
   "cell_type": "markdown",
   "id": "23e7ed99-bb46-4eaa-bb0b-cfd8a093014a",
   "metadata": {
    "slideshow": {
     "slide_type": "subslide"
    }
   },
   "source": [
    "## Are we going to make computations using notebooks ?{background-color=\"yellow\" background-image=\"images/physical-notebook.png\" background-size=\"100%\" background-opacity=\"1\"}"
   ]
  },
  {
   "cell_type": "markdown",
   "id": "79eda2ae",
   "metadata": {
    "slideshow": {
     "slide_type": "subslide"
    }
   },
   "source": [
    "## There are some great examples\n",
    ":::: {.columns}\n",
    "\n",
    "::: {.fragment .column width=\"50%\"}\n",
    "![](images/leonardo-ritratto.png)\n",
    "::: \n",
    "\n",
    "::: {.fragment .column width=\"50%\"}\n",
    "![Codex Atlanticus](images/Codex_Atlanticus.jpg)\n",
    "\n",
    "\n",
    ":::\n",
    "::::"
   ]
  },
  {
   "cell_type": "markdown",
   "id": "8d124529",
   "metadata": {
    "cell_style": "split",
    "slideshow": {
     "slide_type": "subslide"
    }
   },
   "source": [
    ":::: {.columns}\n",
    "\n",
    "::: {.fragment .column width=\"50%\"}\n",
    "![](images/Albert_Einstein_Head.jpg)\n",
    "::: \n",
    "\n",
    "::: {.fragment .column width=\"50%\"}\n",
    "![Einstain's scratch book - calculations on gravity](images/einstein.png)\n",
    ":::\n",
    "::::\n",
    "\n"
   ]
  },
  {
   "cell_type": "markdown",
   "id": "26651bef",
   "metadata": {
    "slideshow": {
     "slide_type": "subslide"
    }
   },
   "source": [
    "## Use a real notebook!\n",
    "![](images/notebook-computer.jpg){.fragment .lightbox}"
   ]
  },
  {
   "cell_type": "markdown",
   "id": "6309322b",
   "metadata": {
    "slideshow": {
     "slide_type": "subslide"
    }
   },
   "source": [
    "## To get value you need lot of time\n",
    "![White Rabbit](images/whiterabittdisney.png){.fragment .lightbox}"
   ]
  },
  {
   "cell_type": "markdown",
   "id": "40f383ca",
   "metadata": {
    "slideshow": {
     "slide_type": "subslide"
    }
   },
   "source": [
    "## We need some magic tools\n",
    "[▶![](http://img.youtube.com/vi/dZewnFXl_MY/0.jpg)](https://www.youtube.com/watch?v=dZewnFXl_MY&start=40)"
   ]
  },
  {
   "cell_type": "markdown",
   "id": "4b8a09f0",
   "metadata": {
    "slideshow": {
     "slide_type": "slide"
    }
   },
   "source": [
    "## Notebook Interface\n",
    "\n",
    ":::: {.columns}\n",
    "\n",
    "::: {.fragment .column width=\"50%\"}\n",
    "**A Wikipedia definition**\n",
    "\n",
    "> A notebook interface (also called a computational notebook) is a virtual notebook environment\n",
    "It pairs the functionality of word processing software with both the shell and kernel of that notebook's programming language. Millions of people use notebooks interface to analyze data for science, journalism, and education.\n",
    "[Wikipedia](https://en.wikipedia.org/wiki/Notebook_interface)\n",
    "::: \n",
    "\n",
    "::: {.fragment .column width=\"50%\"}\n",
    "![](images/platone.png)\n",
    ":::\n",
    "::::\n",
    "\n",
    "\n",
    "\n"
   ]
  },
  {
   "cell_type": "markdown",
   "id": "27a200d9",
   "metadata": {
    "slideshow": {
     "slide_type": "subslide"
    }
   },
   "source": [
    "### A  technical definition\n",
    "\n",
    ":::: {.columns}\n",
    "\n",
    "::: {.fragment .column width=\"50%\"}\n",
    "\n",
    "> A notebook is a shareable document that combines computer code, plain language descriptions, data, rich visualizations like 3D models, charts, graphs and figures, and interactive controls. A notebook, along with an editor (like JupyterLab), provides a fast interactive environment for prototyping and explaining code, exploring and visualizing data, and sharing ideas with others.\n",
    "\n",
    "<https://docs.jupyter.org/en/latest/>\n",
    " \n",
    "::: \n",
    "\n",
    "::: {.fragment .column width=\"50%\"}\n",
    "![A computational notebook document, shown inside JupyterLab](https://docs.jupyter.org/en/latest/_images/jupyterlab.png)\n",
    ":::\n",
    "::::\n",
    "\n",
    "\n"
   ]
  },
  {
   "cell_type": "markdown",
   "id": "75175f67",
   "metadata": {
    "slideshow": {
     "slide_type": "subslide"
    }
   },
   "source": [
    "## Origins\n",
    "\n",
    ":::: {.columns}\n",
    "\n",
    "::: {.fragment .column width=\"50%\"}\n",
    "\n",
    "In 1988 the notebook interface was used as [Mathematica](https://www.wolfram.com/mathematica/) frontend\n",
    "\n",
    "![](https://content.wolfram.com/sites/11/mathematica1-mac-startup.png)\n",
    "\n",
    "[Source](https://writings.stephenwolfram.com/2018/06/weve-come-a-long-way-in-30-years-but-you-havent-seen-anything-yet/)\n",
    "\n",
    "::: \n",
    "\n",
    "::: {.fragment .column width=\"50%\"}\n",
    "> It’s fun today to launch Mathematica 1.0 on an old computer, and compare it with today:\n",
    "\n",
    "\n",
    "![](https://content.wolfram.com/sites/39/2018/06/mac-v-iphone.png)\n",
    ":::\n",
    "::::\n",
    "\n"
   ]
  },
  {
   "cell_type": "markdown",
   "id": "51118eb5",
   "metadata": {
    "slideshow": {
     "slide_type": "slide"
    }
   },
   "source": [
    "## Literate Programming\n",
    "\n",
    ":::: {.columns}\n",
    "\n",
    "::: {.fragment .column width=\"50%\"}\n",
    "![](images/knuth.jpg)\n",
    "::: \n",
    "\n",
    "::: {.fragment .column width=\"50%\"}\n",
    "\n",
    "> Literate programming: Instead of imagining that our main task is to instruct a computer what to do, let us concentrate rather on explaining to human beings what we want a computer to do. \n",
    "\n",
    "Donald Knuth (1984)\n",
    " \n",
    ":::\n",
    "::::\n"
   ]
  },
  {
   "cell_type": "markdown",
   "id": "db10d19a",
   "metadata": {
    "cell_style": "split",
    "slideshow": {
     "slide_type": "subslide"
    }
   },
   "source": [
    ":::: {.columns}\n",
    "\n",
    "::: {.fragment .column width=\"50%\"}\n",
    "\n",
    "![](images/fperez.jpg)\n",
    "\n",
    "::: \n",
    "\n",
    "::: {.fragment .column width=\"50%\"}\n",
    "\n",
    "**Literate computing** \n",
    "\n",
    "> A literate computing environment is one that allows users not only to execute commands interactively but also to store in a literate document format the results of these commands along with figures and free-form text that can include formatted mathematical expressions.\n",
    "\n",
    "Millman KJ and Perez F (2014) Implementing Reproducible Research\n",
    ":::\n",
    "::::\n",
    "\n",
    "\n"
   ]
  },
  {
   "cell_type": "markdown",
   "id": "8c98ddd2",
   "metadata": {
    "slideshow": {
     "slide_type": "subslide"
    }
   },
   "source": [
    "## Developing open source scientific practice\n",
    "[Chapter in Reproducible Research](doc/Millman_Perez_chapter.pdf)\n",
    "\n",
    "Reproducibility in computational research requires:\n",
    "\n",
    "1. sharing of scientific software, data, and knowledge necessary for reproducible research;\n",
    "2. readable, tested, validated, and documented software as the basis for reliable scientific\n",
    "outcomes;\n",
    "3. high standards of computational literacy in the education of mathematicians,\n",
    "scientists, and engineers;\n",
    "4. open source software developed by collaborative,\n",
    "meritocratic communities of practice."
   ]
  },
  {
   "cell_type": "markdown",
   "id": "10c3ce42",
   "metadata": {
    "slideshow": {
     "slide_type": "subslide"
    }
   },
   "source": [
    "## What is a notebook then ?\n",
    "\n",
    ":::: {.columns}\n",
    "\n",
    "::: {.fragment .column width=\"50%\"}\n",
    "![](images/mikebostock.jpg)\n",
    "::: \n",
    "\n",
    "::: {.fragment .column width=\"50%\"}\n",
    "\n",
    ">A Notebook is an interactive, editable document defined by code. It’s a computer program, but one that’s designed to be easier to read and write by humans.” \n",
    "\n",
    "Mike Bostock (creator of D3.js, founder of <https://observablehq.com/>)\n",
    "\n",
    ":::\n",
    "::::\n"
   ]
  },
  {
   "cell_type": "markdown",
   "id": "ac65b2e3",
   "metadata": {
    "cell_style": "split",
    "slideshow": {
     "slide_type": "subslide"
    }
   },
   "source": [
    ":::: {.columns}\n",
    "\n",
    "::: {.fragment .column width=\"50%\"}\n",
    "\n",
    "![](images/mufford.jpg)\n",
    "\n",
    "::: \n",
    "\n",
    "::: {.fragment .column width=\"50%\"}\n",
    "\n",
    "> When we look at the future and we try to think what does it look like to work with data, we think it looks an awful lot like a notebook experience.\n",
    "\n",
    "Michelle Ufford (<http://noteable.io/>, formely Head of Data Netflix)\n",
    "\n",
    "Edit: [Notable.io shutdown](https://news.ycombinator.com/item?id=38659315)\n",
    ":::\n",
    "::::\n",
    "\n",
    "\n"
   ]
  },
  {
   "cell_type": "markdown",
   "id": "d212ed09",
   "metadata": {
    "slideshow": {
     "slide_type": "slide"
    }
   },
   "source": [
    "# Use Cases"
   ]
  },
  {
   "cell_type": "markdown",
   "id": "96a76d75",
   "metadata": {
    "slideshow": {
     "slide_type": "subslide"
    }
   },
   "source": [
    "## Netflix: Data Role\n",
    "\n",
    ":::: {.columns}\n",
    "\n",
    "::: {.fragment .column width=\"50%\"}\n",
    "![](images/notebooks-everywhere-netflix.jpg)\n",
    "::: \n",
    "\n",
    "::: {.fragment .column width=\"50%\"}\n",
    "[https://softwareengineeringdaily.com/2019/01/15/notebooks-at-netflix-with-matthew-seal/](An interview at Software Engineer Daily)\n",
    "\n",
    "-  Over the last 10 years, data engineering has become a key component of what makes Netflix successful. There are many different engineering roles who interact with the data infrastructure at Netflix. These include data analysts, machine learning scientists, analytics engineers and software engineers.\n",
    "-  As data engineering and data science has grown, the tooling has expanded. The people in\n",
    "different data roles at Netflix might use Apache Spark, or Presto, or Python, or Scala, or SQL, or\n",
    "many other applications to study data. But in recent years, there is one tool that has stood out\n",
    "for its ability to be distinctly useful - Jupyter Notebooks. \n",
    "\n",
    ":::\n",
    "::::\n"
   ]
  },
  {
   "cell_type": "markdown",
   "id": "0f6fa830",
   "metadata": {
    "slideshow": {
     "slide_type": "subslide"
    }
   },
   "source": [
    "## Pay Pal: need for a centralized (and explanatory) reference\n",
    "\n",
    ":::: {.columns}\n",
    "\n",
    "::: {.fragment .column width=\"50%\"}\n",
    "![](images/paypal-notebooks-at-jupytercon-2018-8-638.jpg)\n",
    "::: \n",
    "\n",
    "::: {.fragment .column width=\"50%\"}\n",
    "\n",
    "- Unified Data Access: Simplifies querying across Hive, HBase, Kafka, etc. via Gimel Data API\n",
    "- Interactive Analysis: Combines code, visuals, and documentation in one shareable tool.\n",
    "- Enterprise-Ready: Secure, scalable, and audit-friendly for PayPal’s internal us\n",
    "\n",
    "<https://medium.com/paypal-engineering/paypal-notebooks-powered-by-jupyter-fd0067bd00b0>\n",
    "\n",
    ":::\n",
    "::::\n"
   ]
  },
  {
   "cell_type": "markdown",
   "id": "99bdb649",
   "metadata": {
    "slideshow": {
     "slide_type": "subslide"
    }
   },
   "source": [
    "## Adobe: Data for enterprise\n",
    ":::: {.columns}\n",
    "\n",
    "::: {.fragment .column width=\"50%\"}\n",
    "![](images/jupyterlab_launcher_adobe.png)\n",
    "::: \n",
    "\n",
    "::: {.fragment .column width=\"50%\"}\n",
    "- Collaborative Workflows: Real-time sharing and teamwork on notebooks.\n",
    "- Scalable Infra: Dynamically handles large-scale data and compute needs.\n",
    "- Standardized Environment: Ensures consistency and reproducibility across teams.\n",
    "\n",
    "<https://medium.com/adobetech/reimagining-jupyter-notebooks-for-enterprise-scale-8bc6340d504a>\n",
    ":::\n",
    "::::\n",
    "\n"
   ]
  },
  {
   "cell_type": "markdown",
   "id": "89415c2e",
   "metadata": {
    "slideshow": {
     "slide_type": "subslide"
    }
   },
   "source": [
    "## Orelly: Bring Your Learning to Life\n",
    "\n",
    ":::: {.columns}\n",
    "\n",
    "::: {.fragment .column width=\"50%\"}\n",
    "![](images/oreilly.svg)\n",
    "::: \n",
    "\n",
    "::: {.fragment .column width=\"50%\"}\n",
    "For a limited time only, you can preview one of our new premium content formats that will soon require an account upgrade to access. \n",
    "\n",
    "Don’t just learn—do. Apply the skills you’re reading about in real time with interactive Jupyter Notebooks.\n",
    "\n",
    "<https://www.oreilly.com/online-learning/introducing-jupyter-notebooks.html>\n",
    ":::\n",
    "::::\n",
    "\n",
    "\n",
    "\n",
    "\n"
   ]
  },
  {
   "cell_type": "markdown",
   "id": "8c15db31",
   "metadata": {
    "slideshow": {
     "slide_type": "slide"
    }
   },
   "source": [
    "## Interest over time\n",
    "\n",
    "<https://trends.google.com/trends/explore?date=2014-01-01%202025-03-27&q=jupyter,colab,Rstudio,kaggle,databricks&hl=en>"
   ]
  },
  {
   "cell_type": "markdown",
   "id": "a0686344",
   "metadata": {
    "editable": true,
    "slideshow": {
     "slide_type": "slide"
    },
    "tags": []
   },
   "source": [
    "## List of Jupyter compatible Notebooks\n",
    "\n",
    "- [JupyterLab](https://jupyter.org/): Official next-gen interface for Jupyter; supports notebooks, terminals, code consoles, and more  \n",
    "- [Jupyter Notebook (Classic)](https://jupyter.org): The original web-based interactive computing interface  \n",
    "- [Anaconda](https://www.anaconda.com/): Local installation with Jupyter Notebook/Lab included via Navigator or CLI  \n",
    "- [Binder](https://mybinder.org/): Free, temporary Jupyter environments from GitHub repos—ideal for demos and testing  \n",
    "- [CoCalc](https://cocalc.com/): Offers standard Jupyter environments with collaboration features  \n",
    "- [Kaggle Kernels](https://www.kaggle.com/code): While lightly customized, still uses vanilla Jupyter backend and `.ipynb` compatibility  \n",
    "- [Saturn Cloud](https://saturncloud.io/): Supports launching standard Jupyter Notebooks in scalable cloud environments  \n",
    "- [IBM Watson Studio (Lite)](https://www.ibm.com/cloud/watson-studio): Offers standard JupyterLab environments in free tier  \n",
    "- [JetBrains Datalore (Community Edition)](https://datalore.jetbrains.com/): Slightly modified UI but retains `.ipynb` compatibility and Jupyter-like workflows\n",
    "- [VS Code](https://code.visualstudio.com/): Local IDE with native support for Jupyter Notebooks via the Python extension; runs vanilla `.ipynb` files in a Jupyter-compliant interface\n"
   ]
  }
 ],
 "metadata": {
  "celltoolbar": "Slideshow",
  "kernelspec": {
   "display_name": "Python 3 (ipykernel)",
   "language": "python",
   "name": "python3"
  },
  "language_info": {
   "codemirror_mode": {
    "name": "ipython",
    "version": 3
   },
   "file_extension": ".py",
   "mimetype": "text/x-python",
   "name": "python",
   "nbconvert_exporter": "python",
   "pygments_lexer": "ipython3",
   "version": "3.12.9"
  },
  "rise": {
   "autolaunch": true,
   "enable_chalkboard": "true",
   "footer": "<div class=\"tswd-footer\"> *** Cloud Computing and Big Data - 2024 ***</div>",
   "header": "<div class=\"tswd-header\"></div>",
   "scroll": true,
   "theme": "white"
  }
 },
 "nbformat": 4,
 "nbformat_minor": 5
}
