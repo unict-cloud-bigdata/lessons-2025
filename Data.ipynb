{
 "cells": [
  {
   "cell_type": "raw",
   "id": "cc107732-b5d2-46c4-a5c1-99bb5c55a55a",
   "metadata": {},
   "source": [
    "---\n",
    "title: \"Data*\"\n",
    "author: \"Salvo Nicotra\"\n",
    "format: \n",
    "    revealjs:\n",
    "        width: 1280\n",
    "        heigth: 800\n",
    "incremental: true  \n",
    "execute:\n",
    "  echo: true\n",
    "  warning: false\n",
    "theme: white\n",
    "chalkboard: true\n",
    "css: style.css\n",
    "smaller: true\n",
    "scrollable: true\n",
    "include-before: |\n",
    "    <img src=\"images/unict-logo.png\" class=\"custom-logo\" alt=\"Logo\">\n",
    "include-after: |\n",
    "      <div class=\"custom-footer\">\n",
    "        *** Cloud Computing and Big Data - 2024/2025 ***\n",
    "      </div>\n",
    "---"
   ]
  },
  {
   "cell_type": "markdown",
   "id": "830e792a",
   "metadata": {
    "slideshow": {
     "slide_type": "slide"
    }
   },
   "source": [
    "## We live in a data World\n",
    "\n",
    ":::: {.columns}\n",
    "\n",
    "::: {.fragment .column width=\"50%\"}\n",
    "**Internet Minute**\n",
    "![](images/internet-minute-comparison.png){.lightbox}\n",
    "::: \n",
    "\n",
    "::: {.fragment .column width=\"50%\"}\n",
    "**Data never sleeps**\n",
    "![](https://web-assets.domo.com/blog/wp-content/uploads/2024/12/Data-never-sleep-12.0.png){.lightbox}\n",
    ":::\n",
    "::::"
   ]
  },
  {
   "cell_type": "markdown",
   "id": "f619e4de",
   "metadata": {
    "slideshow": {
     "slide_type": "slide"
    }
   },
   "source": [
    "# Data Revolution"
   ]
  },
  {
   "cell_type": "markdown",
   "id": "3f690230",
   "metadata": {
    "slideshow": {
     "slide_type": "subslide"
    }
   },
   "source": [
    "## From 4.0: The Information Age\n",
    "\n",
    ":::: {.columns}\n",
    "\n",
    "::: {.fragment .column width=\"50%\"}\n",
    "> In essence, the Fourth Industrial Revolution is the trend towards automation and data exchange in manufacturing technologies and processes which include cyber-physical systems (CPS), IoT, industrial internet of things,cloud computing,cognitive computing, and artificial intelligence.\n",
    "\n",
    "<https://en.wikipedia.org/wiki/Fourth_Industrial_Revolution>\n",
    "::: \n",
    "\n",
    "::: {.fragment .column width=\"50%\"}\n",
    "![Industry 4.0](images/industry40.png)\n",
    ":::\n",
    "::::"
   ]
  },
  {
   "cell_type": "markdown",
   "id": "a431c203",
   "metadata": {
    "slideshow": {
     "slide_type": "subslide"
    }
   },
   "source": [
    "## to the Imagination Age\n",
    "\n",
    ":::: {.columns}\n",
    "\n",
    "::: {.fragment .column width=\"50%\"}\n",
    "![](https://kajabi-storefronts-production.kajabi-cdn.com/kajabi-storefronts-production/blogs/22163/images/MnaQX7wsS9izW4Xuzjyw_Screenshot_2021-11-25_at_20.47.15.png) \n",
    "\n",
    "<https://www.creativitywakeup.com/blog/imagination_age>\n",
    "::: \n",
    "\n",
    "::: {.fragment .column width=\"50%\"}\n",
    "![](https://i.imgflip.com/6cxtuz.gif)\n",
    "\n",
    "[NicsMeme](https://imgflip.com/gif/6cxtuz)\n",
    ":::\n",
    "::::"
   ]
  },
  {
   "cell_type": "markdown",
   "id": "8e3dac5e",
   "metadata": {
    "slideshow": {
     "slide_type": "subslide"
    }
   },
   "source": [
    "## towards Industry 5.0\n",
    "\n",
    ":::: {.columns}\n",
    "\n",
    "::: {.fragment .column width=\"50%\"}\n",
    "> The Industry of the Future approach brings benefits for industry, for workers and for society.\n",
    "It empowers workers, as well as addresses the evolving skills and training needs of employees. It increases the competitiveness of industry and helps attract the best talents.\n",
    "\n",
    "<https://research-and-innovation.ec.europa.eu/research-area/industrial-research-and-innovation/industry-50_en>\n",
    "::: \n",
    "\n",
    "::: {.fragment .column width=\"50%\"}\n",
    "![](images/industry50.png){.lightbox}\n",
    "\n",
    ":::\n",
    "::::"
   ]
  },
  {
   "cell_type": "markdown",
   "id": "4666187d",
   "metadata": {
    "slideshow": {
     "slide_type": "slide"
    }
   },
   "source": [
    "## What is data ?\n",
    "\n",
    ":::: {.columns}\n",
    "\n",
    "::: {.fragment .column width=\"33%\"}\n",
    "**data**\n",
    "\n",
    "> The Latin word data is the plural of datum, \"(thing) given\", neuter past participle of dare, \"to give\". \n",
    "The first English use of the word \"data\" is from the 1640s. \n",
    "The word \"data\" was first used to mean \"transmissible and storable computer information\" in 1946. \n",
    "The expression \"data processing\" was first used in 1954.\n",
    "\n",
    "[Wikipedia](https://en.wikipedia.org/wiki/Data)\n",
    "::: \n",
    "\n",
    "::: {.fragment .column width=\"33%\"}\n",
    "**data**\n",
    "\n",
    "> **Information**, especially facts or numbers, collected to be examined and considered and used to help decision-making, or **information** in an electronic form that can be stored and used by a computer\n",
    "\n",
    "[Cambridge Dictionary](https://dictionary.cambridge.org/dictionary/english/data)\n",
    ":::\n",
    "\n",
    "::: {.fragment .column width=\"33%\"}\n",
    "**information**\n",
    "\n",
    "> facts about a situation, person, event, etc.:\n",
    "\n",
    "[Cambridge Dictionary](https://dictionary.cambridge.org/dictionary/english/information)\n",
    "\n",
    ":::\n",
    "::::"
   ]
  },
  {
   "cell_type": "markdown",
   "id": "e81519fe",
   "metadata": {
    "slideshow": {
     "slide_type": "subslide"
    }
   },
   "source": [
    "## The Key Differences Between Data vs Information\n",
    "<https://bloomfire.com/blog/data-vs-information/>\n",
    "\n",
    ":::: {.columns}\n",
    "\n",
    "::: {.fragment .column width=\"50%\"}\n",
    "- Data is a collection of facts, while information puts those facts into context.\n",
    "- While data is raw and unorganized, information is organized.\n",
    "- While data is raw and unorganized, information is organized.\n",
    "- Data points are individual and sometimes unrelated. Information maps out that data to provide a big-picture view of how it all fits together.\n",
    "\n",
    "::: \n",
    "\n",
    "::: {.fragment .column width=\"50%\"}\n",
    "- Data, on its own, is meaningless. When it’s analyzed and interpreted, it becomes meaningful information.\n",
    "- Data does not depend on information; however, information depends on data.\n",
    "- Data typically comes in the form of graphs, numbers, figures, or statistics. Information is typically presented through words, language, thoughts, and ideas.\n",
    "- Data isn’t sufficient for decision-making, but you can make decisions based on information.\n",
    ":::\n",
    "::::"
   ]
  },
  {
   "cell_type": "markdown",
   "id": "481c5ad3",
   "metadata": {
    "cell_style": "center",
    "slideshow": {
     "slide_type": "subslide"
    }
   },
   "source": [
    "## Data  -> Information\n",
    "\n",
    "\n",
    ":::: {.columns}\n",
    "\n",
    "::: {.fragment .column width=\"50%\"}\n",
    "**data** is **information** stored that can be analyzed in a specific context to get the same or new information\n",
    "\n",
    "Suppose we do have the \"data\" written on a paper, what does it mean ?\n",
    "::: \n",
    "\n",
    "::: {.fragment .column width=\"50%\"}\n",
    "We need some context (or metadata) to understand what these data means, it could be:\n",
    "\n",
    "- Alice has 10 years;\n",
    "- Alice has 10$ in the wallet\n",
    ":::\n",
    "::::\n"
   ]
  },
  {
   "cell_type": "markdown",
   "id": "a8abd5e8",
   "metadata": {
    "slideshow": {
     "slide_type": "subslide"
    }
   },
   "source": [
    "## Qualitative vs Qualitative\n",
    "\n",
    ":::: {.columns}\n",
    "\n",
    "::: {.fragment .column width=\"50%\"}\n",
    "**Quantitative data** \n",
    "\n",
    "-  is numeric.\n",
    "- Measures peoples, things and events.\n",
    "- Can be integer, float. Data\n",
    "- Operations: It's possible to sum, compute max, min, avg\n",
    "::: \n",
    "\n",
    "::: {.fragment .column width=\"50%\"}\n",
    "**Qualitative data**  \n",
    "\n",
    "- include descriptions, like name, surname, address or product name\n",
    "- May be associated with numeric information such as price or age.\n",
    "- It's normally a text, can be a categorical value or a description\n",
    "- Operations: It's possible to count\n",
    ":::\n",
    "::::"
   ]
  },
  {
   "cell_type": "markdown",
   "id": "e51ca947",
   "metadata": {
    "slideshow": {
     "slide_type": "subslide"
    }
   },
   "source": [
    "### What about time ?\n",
    "\n",
    "Chat Gpt response:\n",
    "\n",
    "> The answer to your question is not straightforward. Time can be both quantitative and qualitative depending on the context in which it is used \n",
    "In general, time is considered a quantitative data type because it can be measured and expressed numerically, such as in seconds, minutes, hours, days, weeks, months, or years. For example, the duration of a movie can be expressed in minutes, and the time it takes to complete a task can be expressed in hours.\n",
    "However, time can also be considered qualitative when it is used to describe a subjective experience or a phenomenon that cannot be measured precisely. For example, the phrase “time flies when you’re having fun” is a qualitative expression that describes the subjective experience of time passing quickly when one is enjoying oneself"
   ]
  },
  {
   "cell_type": "markdown",
   "id": "3e5b374f",
   "metadata": {
    "slideshow": {
     "slide_type": "subslide"
    }
   },
   "source": [
    "## ISO 11404:2007 Information Technlogy - General purpose datatypes\n",
    "<http://standards.iso.org/ittf/PubliclyAvailableStandards/c039479_ISO_IEC_11404_2007(E).zip>\n",
    "\n",
    "Three notions of datatype:\n",
    "\n",
    "- the **conceptual**, or abstract, notion of a datatype, which characterizes the datatype by its nominal values and properties;\n",
    "- the **structural** notion of a datatype, which characterizes the datatype as a conceptual organization of specific component datatypes with specific functionalities;\n",
    "- the **implementation** notion of a datatype, which characterizes the datatype by defining the rules for\n",
    "representation of the datatype in a given environment."
   ]
  },
  {
   "cell_type": "markdown",
   "id": "4ed07f2b",
   "metadata": {
    "slideshow": {
     "slide_type": "subslide"
    }
   },
   "source": [
    "### Data Types\n",
    "\n",
    ":::: {.columns}\n",
    "\n",
    "::: {.fragment .column width=\"50%\"}\n",
    "**Numeric vs Non Numeric**\n",
    "\n",
    "- A datatype is said to be **numeric** if its values are conceptually quantities (in some mathematical number system).\n",
    "- A datatype whose values do not have this property is said to be **non-numeric**.\n",
    "::: \n",
    "\n",
    "::: {.fragment .column width=\"50%\"}\n",
    "**Primitive vs Non primivite**\n",
    "\n",
    "- **primitive** datatypes\n",
    "    - defined axiomatically without reference to other datatypes\n",
    "    - Atomic: not divisible\n",
    "    - Examples: boolean, integer, time, enumerate, char,  varchar\n",
    "\n",
    "- **generated** datatypes\n",
    "    - specified, and partly defined, in terms of other datatypes.\n",
    "    - aggregate: values organized for a specific function\n",
    "    - Examples: array, bag, sequence, xml, json \n",
    ":::\n",
    "::::\n"
   ]
  },
  {
   "cell_type": "markdown",
   "id": "bb7a7309",
   "metadata": {
    "slideshow": {
     "slide_type": "slide"
    }
   },
   "source": [
    "## Big Data\n",
    "\n",
    ":::{.callout-warning .fragment}\n",
    ">Big data is like teenage sex; everyone talks about it, nobody really knows how to do it, everyone thinks everyone else is doing it, so everyone claims they are doing it.” (Dan Ariely, American Professor)\n",
    "\n",
    "<https://towardsdatascience.com/top-15-famous-data-science-quotes-f2e010b8d214>\n",
    ":::\n"
   ]
  },
  {
   "cell_type": "markdown",
   "id": "6fe4491d",
   "metadata": {
    "slideshow": {
     "slide_type": "subslide"
    }
   },
   "source": [
    "## What is Big Data ?\n",
    "\n",
    "**A market perspective**\n",
    "Revenue from big data and business analytics worldwide from 2015 to 2022 (Statista - IDC)\n",
    "![](images/Statista2023-BigDataBusiness.png)\n",
    "<https://www.statista.com/statistics/551501/worldwide-big-data-business-analytics-revenue/>"
   ]
  },
  {
   "cell_type": "markdown",
   "id": "b6ad27b4",
   "metadata": {
    "slideshow": {
     "slide_type": "subslide"
    }
   },
   "source": [
    "## Big data is better data\n",
    "\n",
    "[▶![](http://img.youtube.com/vi/8pHzROP1D-w/0.jpg)](https://www.youtube.com/watch?v=8pHzROP1D-w&start=113)"
   ]
  },
  {
   "cell_type": "markdown",
   "id": "984d7427",
   "metadata": {
    "slideshow": {
     "slide_type": "subslide"
    }
   },
   "source": [
    "## The Book of Why\n",
    "\n",
    ":::: {.columns}\n",
    "\n",
    "::: {.fragment .column width=\"50%\"}\n",
    "![](https://upload.wikimedia.org/wikipedia/en/3/38/The_Book_of_Why.jpg)\n",
    "::: \n",
    "\n",
    "::: {.fragment .column width=\"50%\"}\n",
    "> Data can tell you that the people who took a medicine recovered faster than those who did not take it, but they can’t tell you why. Maybe those who took the medicine did so because they could afford it and would have recovered just as fast without it.\n",
    ":::\n",
    "::::\n"
   ]
  },
  {
   "cell_type": "markdown",
   "id": "c83fa385",
   "metadata": {
    "slideshow": {
     "slide_type": "slide"
    }
   },
   "source": [
    "# V for ?"
   ]
  },
  {
   "cell_type": "markdown",
   "id": "6e11b5fe",
   "metadata": {
    "slideshow": {
     "slide_type": "subslide"
    }
   },
   "source": [
    "### Volume\n",
    "\n",
    "\n",
    ":::: {.columns}\n",
    "\n",
    "::: {.fragment .column width=\"50%\"}\n",
    "\n",
    "From day one, the **Zettabyte** has been a benchmark that our analysts have targeted as a major networking milestone.\n",
    "\n",
    "When will global Internet traffic reach an annual run rate of one Zettabyte? Well, that day has finally come. According to our estimate, the world’s collective Internet use will reach the Zettabyte threshold for this calendar year on September 9, 2016\n",
    "\n",
    "<https://blogs.cisco.com/sp/the-zettabyte-era-officially-begins-how-much-is-that>\n",
    "::: \n",
    "\n",
    "::: {.fragment .column width=\"50%\"}\n",
    "Volume of data/information created, captured, copied, and consumed worldwide from 2010 to 2020, with forecasts from 2021 to 2025 (in zettabytes)\n",
    "\n",
    "![](images/Statista2023-VolumeData2021-2025.png){.lightbox}\n",
    "<https://www.statista.com/statistics/871513/worldwide-data-created/>\n",
    ":::\n",
    "::::"
   ]
  },
  {
   "cell_type": "markdown",
   "id": "0da0c27e",
   "metadata": {
    "slideshow": {
     "slide_type": "subslide"
    }
   },
   "source": [
    "![](https://img-9gag-fun.9cache.com/photo/a318ez1_460swp.webp)\n",
    "\n",
    "\n",
    "<https://www.reddit.com/r/196/comments/uonbxf/rulezip/>"
   ]
  },
  {
   "cell_type": "markdown",
   "id": "811bdb93",
   "metadata": {
    "slideshow": {
     "slide_type": "subslide"
    }
   },
   "source": [
    "### Velocity\n",
    "\n",
    ":::: {.columns}\n",
    "\n",
    "::: {.fragment .column width=\"50%\"}\n",
    "\n",
    "In contrast, data growth shows no sign of stopping. The ongoing explosion of data will result in approximately 40 trillion gigabytes (or 40 zettabytes) in 2020 alone. That’s 1.7MB of data created every second for every person on earth.\n",
    "\n",
    "<https://www.ibm.com/blogs/journey-to-ai/2020/06/netezza-and-ibm-cloud-pak-a-knockout-combo-for-tough-data/>\n",
    "\n",
    "<https://www.forbes.com/sites/brentdykes/2017/06/28/big-data-forget-volume-and-variety-focus-on-velocity/?sh=e9e8b906f7d6>\n",
    "::: \n",
    "\n",
    "::: {.fragment .column width=\"50%\"}\n",
    "![](https://www.highspeedinternet.com/app/uploads/2022/12/HSI_UPDATED_12-14-What-is-6G-Internet.png)\n",
    "\n",
    "<https://www.highspeedinternet.com/resources/6g-internet>\n",
    ":::\n",
    "::::"
   ]
  },
  {
   "cell_type": "markdown",
   "id": "3241cd68",
   "metadata": {
    "slideshow": {
     "slide_type": "subslide"
    }
   },
   "source": [
    "![](https://i.imgflip.com/7e6nwz.jpg)\n",
    "\n",
    "[NicsMeme](https://imgflip.com/i/7e6nwz)"
   ]
  },
  {
   "cell_type": "markdown",
   "id": "de1f5a04",
   "metadata": {
    "slideshow": {
     "slide_type": "subslide"
    }
   },
   "source": [
    "### Variety\n",
    "\n",
    ":::: {.columns}\n",
    "\n",
    "::: {.fragment .column width=\"50%\"}\n",
    "<https://www.futurelearn.com/info/courses/applied-big-data-analytics/0/steps/52404>\n",
    "\n",
    "Variety refers to the complexity of data formats. Big data consists of different forms of data. For example, when a telecommunications company like Telstra records data on calls to its call centre, this data includes both:\n",
    "\n",
    "- structured data, which conforms to a predefined data model (e.g., your customer ID, the timestamp of your call, your service type), and\n",
    "- unstructured data (e.g., the recording of the call, notes that the call centre operator makes during the call, the problem history related to your call).\n",
    "\n",
    "\n",
    "::: \n",
    "\n",
    "::: {.fragment .column width=\"50%\"}\n",
    "\n",
    "![](https://miro.medium.com/v2/resize:fit:1400/0*suBDwJiElP7O2TDa)\n",
    "\n",
    "<https://towardsdatascience.com/big-data-file-formats-explained-dfaabe9e8b33>\n",
    ":::\n",
    "::::"
   ]
  },
  {
   "cell_type": "markdown",
   "id": "c9f6ef52",
   "metadata": {
    "slideshow": {
     "slide_type": "subslide"
    }
   },
   "source": [
    "![](https://preview.redd.it/w64avutj1k921.jpg?width=640&crop=smart&auto=webp&v=enabled&s=9191e4b94a21abef0f3ecb9edd7c94d03b85550f)\n",
    "\n",
    "<https://www.reddit.com/r/ProgrammerHumor/comments/aehe8q/perfect_date/>"
   ]
  },
  {
   "cell_type": "markdown",
   "id": "8bfba75d",
   "metadata": {
    "slideshow": {
     "slide_type": "subslide"
    }
   },
   "source": [
    "### 4V \n",
    "\n",
    "Oracle added Veracity\n",
    "\n",
    "![](images/4v.png)"
   ]
  },
  {
   "cell_type": "markdown",
   "id": "48a76407",
   "metadata": {
    "slideshow": {
     "slide_type": "subslide"
    }
   },
   "source": [
    "![](https://uwex.wisconsin.edu/wp-content/uploads/2015/05/4-Vs-of-big-data-2048x1258.jpg){.lightbox}\n",
    "\n",
    "<https://uwex.wisconsin.edu/stories-news/what-is-big-data/>"
   ]
  },
  {
   "cell_type": "markdown",
   "id": "240aaed8",
   "metadata": {
    "slideshow": {
     "slide_type": "subslide"
    }
   },
   "source": [
    "### 5V\n",
    "Oguntimilehin added Value\n",
    "![](https://www.edureka.co/blog/wp-content/uploads/2018/06/Five-Vs-of-Big-Data-What-is-Big-Data-Edureka.png){.lightbox}"
   ]
  },
  {
   "cell_type": "markdown",
   "id": "c1a1d4bb",
   "metadata": {
    "slideshow": {
     "slide_type": "subslide"
    }
   },
   "source": [
    "### 10V\n",
    "In 2014, Data Science Central, Kirk Born has defined big data in 10 V’s \n",
    "![](images/5v.png){.lightbox}"
   ]
  },
  {
   "cell_type": "markdown",
   "id": "e8f57d79",
   "metadata": {
    "slideshow": {
     "slide_type": "subslide"
    }
   },
   "source": [
    "## 17V\n",
    "![](images/17V.jpg){.lightbox}\n",
    "\n",
    "The 17 V’s Of Big Data https://www.irjet.net/archives/V4/i9/IRJET-V4I957.pdf"
   ]
  },
  {
   "cell_type": "markdown",
   "id": "0d28bd46",
   "metadata": {
    "slideshow": {
     "slide_type": "subslide"
    }
   },
   "source": [
    "## Big Data Landscape Big Data Landscape\n",
    "![](http://mattturck.wpenginepowered.com/wp-content/uploads/2021/12/Data-and-AI-Landscape-2021-v3-small.jpg)"
   ]
  },
  {
   "cell_type": "markdown",
   "id": "3a8544cb",
   "metadata": {
    "slideshow": {
     "slide_type": "subslide"
    }
   },
   "source": [
    "# Big Data in real world...\n",
    "![](https://i.imgflip.com/7emx26.jpg)"
   ]
  },
  {
   "cell_type": "markdown",
   "id": "fe9debe8",
   "metadata": {
    "slideshow": {
     "slide_type": "subslide"
    }
   },
   "source": [
    "https://www.mckinsey.com/capabilities/growth-marketing-and-sales/our-insights/insights-to-impact-creating-and-sustaining-data-driven-commercial-growth\n",
    "![](https://www.mckinsey.com/~/media/mckinsey/business%20functions/marketing%20and%20sales/our%20insights/insights%20to%20impact%20creating%20and%20sustaining%20data%20driven%20commercial%20growth/svg-insights-impact-exhibit-1.svgz?cq=50&cpy=Center)"
   ]
  },
  {
   "cell_type": "markdown",
   "id": "5ecfbd04",
   "metadata": {
    "slideshow": {
     "slide_type": "subslide"
    }
   },
   "source": [
    "![](https://www.mckinsey.com/~/media/mckinsey/business%20functions/marketing%20and%20sales/our%20insights/insights%20to%20impact%20creating%20and%20sustaining%20data%20driven%20commercial%20growth/svg-insights-impact-exhibit-2.svgz?cq=50&cpy=Center)"
   ]
  },
  {
   "cell_type": "markdown",
   "id": "7b1dfc76",
   "metadata": {
    "slideshow": {
     "slide_type": "subslide"
    }
   },
   "source": [
    "## Future ?\n",
    "[▶![](https://img.youtube.com/vi/4SmJP8TdWTU/0.jpg)](https://www.youtube.com/watch?v=4SmJP8TdWTU)"
   ]
  }
 ],
 "metadata": {
  "celltoolbar": "Slideshow",
  "kernelspec": {
   "display_name": "Python 3 (ipykernel)",
   "language": "python",
   "name": "python3"
  },
  "language_info": {
   "codemirror_mode": {
    "name": "ipython",
    "version": 3
   },
   "file_extension": ".py",
   "mimetype": "text/x-python",
   "name": "python",
   "nbconvert_exporter": "python",
   "pygments_lexer": "ipython3",
   "version": "3.12.4"
  },
  "rise": {
   "autolaunch": true,
   "enable_chalkboard": "true",
   "footer": "<div class=\"tswd-footer\"> *** Cloud Computing and Big Data - 2023 ***</div>",
   "header": "<div class=\"tswd-header\"></div>",
   "scroll": true,
   "theme": "white"
  }
 },
 "nbformat": 4,
 "nbformat_minor": 5
}
